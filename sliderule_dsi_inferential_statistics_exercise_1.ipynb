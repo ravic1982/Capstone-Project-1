{
 "cells": [
  {
   "cell_type": "markdown",
   "metadata": {},
   "source": [
    "# What is the True Normal Human Body Temperature? \n",
    "\n",
    "#### Background\n",
    "\n",
    "The mean normal body temperature was held to be 37$^{\\circ}$C or 98.6$^{\\circ}$F for more than 120 years since it was first conceptualized and reported by Carl Wunderlich in a famous 1868 book. But, is this value statistically correct?"
   ]
  },
  {
   "cell_type": "markdown",
   "metadata": {},
   "source": [
    "<h3>Exercises</h3>\n",
    "\n",
    "<p>In this exercise, you will analyze a dataset of human body temperatures and employ the concepts of hypothesis testing, confidence intervals, and statistical significance.</p>\n",
    "\n",
    "<p>Answer the following questions <b>in this notebook below and submit to your Github account</b>.</p> \n",
    "\n",
    "<ol>\n",
    "<li>  Is the distribution of body temperatures normal? \n",
    "    <ul>\n",
    "    <li> Although this is not a requirement for CLT to hold (read CLT carefully), it gives us some peace of mind that the population may also be normally distributed if we assume that this sample is representative of the population.\n",
    "    </ul>\n",
    "<li>  Is the sample size large? Are the observations independent?\n",
    "    <ul>\n",
    "    <li> Remember that this is a condition for the CLT, and hence the statistical tests we are using, to apply.\n",
    "    </ul>\n",
    "<li>  Is the true population mean really 98.6 degrees F?\n",
    "    <ul>\n",
    "    <li> Would you use a one-sample or two-sample test? Why?\n",
    "    <li> In this situation, is it appropriate to use the $t$ or $z$ statistic? \n",
    "    <li> Now try using the other test. How is the result be different? Why?\n",
    "    </ul>\n",
    "<li>  Draw a small sample of size 10 from the data and repeat both tests. \n",
    "    <ul>\n",
    "    <li> Which one is the correct one to use? \n",
    "    <li> What do you notice? What does this tell you about the difference in application of the $t$ and $z$ statistic?\n",
    "    </ul>\n",
    "<li>  At what temperature should we consider someone's temperature to be \"abnormal\"?\n",
    "    <ul>\n",
    "    <li> Start by computing the margin of error and confidence interval.\n",
    "    </ul>\n",
    "<li>  Is there a significant difference between males and females in normal temperature?\n",
    "    <ul>\n",
    "    <li> What test did you use and why?\n",
    "    <li> Write a story with your conclusion in the context of the original problem.\n",
    "    </ul>\n",
    "</ol>\n",
    "\n",
    "You can include written notes in notebook cells using Markdown: \n",
    "   - In the control panel at the top, choose Cell > Cell Type > Markdown\n",
    "   - Markdown syntax: http://nestacms.com/docs/creating-content/markdown-cheat-sheet\n",
    "\n",
    "#### Resources\n",
    "\n",
    "+ Information and data sources: http://www.amstat.org/publications/jse/datasets/normtemp.txt, http://www.amstat.org/publications/jse/jse_data_archive.htm\n",
    "+ Markdown syntax: http://nestacms.com/docs/creating-content/markdown-cheat-sheet\n",
    "\n",
    "****"
   ]
  },
  {
   "cell_type": "code",
   "execution_count": 1,
   "metadata": {
    "collapsed": true
   },
   "outputs": [],
   "source": [
    "import pandas as pd\n",
    "\n",
    "df = pd.read_csv('data/human_body_temperature.csv')"
   ]
  },
  {
   "cell_type": "code",
   "execution_count": 2,
   "metadata": {},
   "outputs": [
    {
     "data": {
      "text/html": [
       "<div>\n",
       "<style>\n",
       "    .dataframe thead tr:only-child th {\n",
       "        text-align: right;\n",
       "    }\n",
       "\n",
       "    .dataframe thead th {\n",
       "        text-align: left;\n",
       "    }\n",
       "\n",
       "    .dataframe tbody tr th {\n",
       "        vertical-align: top;\n",
       "    }\n",
       "</style>\n",
       "<table border=\"1\" class=\"dataframe\">\n",
       "  <thead>\n",
       "    <tr style=\"text-align: right;\">\n",
       "      <th></th>\n",
       "      <th>temperature</th>\n",
       "      <th>gender</th>\n",
       "      <th>heart_rate</th>\n",
       "    </tr>\n",
       "  </thead>\n",
       "  <tbody>\n",
       "    <tr>\n",
       "      <th>0</th>\n",
       "      <td>99.3</td>\n",
       "      <td>F</td>\n",
       "      <td>68.0</td>\n",
       "    </tr>\n",
       "    <tr>\n",
       "      <th>1</th>\n",
       "      <td>98.4</td>\n",
       "      <td>F</td>\n",
       "      <td>81.0</td>\n",
       "    </tr>\n",
       "    <tr>\n",
       "      <th>2</th>\n",
       "      <td>97.8</td>\n",
       "      <td>M</td>\n",
       "      <td>73.0</td>\n",
       "    </tr>\n",
       "    <tr>\n",
       "      <th>3</th>\n",
       "      <td>99.2</td>\n",
       "      <td>F</td>\n",
       "      <td>66.0</td>\n",
       "    </tr>\n",
       "    <tr>\n",
       "      <th>4</th>\n",
       "      <td>98.0</td>\n",
       "      <td>F</td>\n",
       "      <td>73.0</td>\n",
       "    </tr>\n",
       "  </tbody>\n",
       "</table>\n",
       "</div>"
      ],
      "text/plain": [
       "   temperature gender  heart_rate\n",
       "0         99.3      F        68.0\n",
       "1         98.4      F        81.0\n",
       "2         97.8      M        73.0\n",
       "3         99.2      F        66.0\n",
       "4         98.0      F        73.0"
      ]
     },
     "execution_count": 2,
     "metadata": {},
     "output_type": "execute_result"
    }
   ],
   "source": [
    "# Your work here.\n",
    "df.head()"
   ]
  },
  {
   "cell_type": "markdown",
   "metadata": {},
   "source": [
    "**Is the distribution of body temperatures normal? **"
   ]
  },
  {
   "cell_type": "code",
   "execution_count": 5,
   "metadata": {
    "collapsed": true
   },
   "outputs": [],
   "source": [
    "import numpy as np"
   ]
  },
  {
   "cell_type": "code",
   "execution_count": 11,
   "metadata": {},
   "outputs": [],
   "source": [
    "mu = df['temperature'].mean()"
   ]
  },
  {
   "cell_type": "code",
   "execution_count": 12,
   "metadata": {},
   "outputs": [],
   "source": [
    "sd1 = df['temperature'].std()"
   ]
  },
  {
   "cell_type": "code",
   "execution_count": 10,
   "metadata": {},
   "outputs": [],
   "source": [
    "import matplotlib.pyplot as plt"
   ]
  },
  {
   "cell_type": "code",
   "execution_count": 13,
   "metadata": {},
   "outputs": [
    {
     "data": {
      "text/plain": [
       "array([  97.41929168,   98.2655402 ,   98.29728315,   97.76437255,\n",
       "         97.02298479,   98.91172353,   98.4128533 ,   97.8600074 ,\n",
       "         98.96956375,   97.61186165,   98.47218473,   97.61864528,\n",
       "         97.91761406,   98.11526119,   97.65703512,   98.54420379,\n",
       "         99.13337124,   97.71512433,   98.18806454,   98.90695966,\n",
       "         97.01760715,   98.21860836,   97.90662265,   97.8442897 ,\n",
       "         98.85276402,   98.95053398,   98.83176112,   97.3853341 ,\n",
       "         98.70695751,   98.74958088,   99.33880425,   97.78010451,\n",
       "         99.32165456,   98.40659066,   99.85062679,   98.42058427,\n",
       "         98.71575678,   99.44646528,   97.39902682,   98.27023467,\n",
       "         98.81560881,   99.1755015 ,   96.98472062,   99.27934583,\n",
       "         99.19953898,   98.34902096,   97.59252016,   98.95718015,\n",
       "         99.2323104 ,   97.5793979 ,   97.97556601,   97.92629866,\n",
       "         99.53996469,   97.61475393,   97.27162021,   98.93470865,\n",
       "         98.24464038,   99.08541976,   98.67438558,   97.61832504,\n",
       "         97.20890157,   98.40130117,   96.9712215 ,   98.60492561,\n",
       "         98.88927361,   98.84010017,   98.95367047,   96.70290174,\n",
       "         99.89122617,   98.77739178,   99.22478247,  100.21131913,\n",
       "         99.14152879,   97.2118532 ,   97.99516565,   99.43606492,\n",
       "         98.38180127,   98.86718895,   97.5779603 ,   96.71115703,\n",
       "         99.13482013,   98.41612298,   97.36692116,   99.11189532,\n",
       "         97.44190707,   97.77153265,   98.60394637,   97.18973411,\n",
       "         99.3097634 ,   98.00830847,   98.01512163,   98.92679824,\n",
       "         97.85286675,   98.31165695,   97.94491636,   98.63421804,\n",
       "         97.55020479,   98.3123817 ,   98.26782787,   99.30507508])"
      ]
     },
     "execution_count": 13,
     "metadata": {},
     "output_type": "execute_result"
    }
   ],
   "source": [
    "std1 = np.random.normal(mu,sd1,100)\n",
    "std1"
   ]
  },
  {
   "cell_type": "code",
   "execution_count": 15,
   "metadata": {
    "collapsed": true
   },
   "outputs": [],
   "source": [
    "def ecdf(data):\n",
    "    n = len(data)\n",
    "    x = np.sort(data)\n",
    "    y = np.arange(1,n+1)/n\n",
    "    return x, y"
   ]
  },
  {
   "cell_type": "code",
   "execution_count": 16,
   "metadata": {},
   "outputs": [
    {
     "data": {
      "text/plain": [
       "(array([  96.3,   96.4,   96.7,   96.7,   96.8,   96.9,   97. ,   97.1,\n",
       "          97.1,   97.1,   97.2,   97.2,   97.2,   97.3,   97.4,   97.4,\n",
       "          97.4,   97.4,   97.4,   97.5,   97.5,   97.6,   97.6,   97.6,\n",
       "          97.6,   97.7,   97.7,   97.7,   97.8,   97.8,   97.8,   97.8,\n",
       "          97.8,   97.8,   97.8,   97.9,   97.9,   97.9,   97.9,   97.9,\n",
       "          98. ,   98. ,   98. ,   98. ,   98. ,   98. ,   98. ,   98. ,\n",
       "          98. ,   98. ,   98. ,   98.1,   98.1,   98.1,   98.2,   98.2,\n",
       "          98.2,   98.2,   98.2,   98.2,   98.2,   98.2,   98.2,   98.2,\n",
       "          98.3,   98.3,   98.3,   98.3,   98.3,   98.4,   98.4,   98.4,\n",
       "          98.4,   98.4,   98.4,   98.4,   98.4,   98.4,   98.5,   98.5,\n",
       "          98.5,   98.6,   98.6,   98.6,   98.6,   98.6,   98.6,   98.6,\n",
       "          98.6,   98.6,   98.6,   98.7,   98.7,   98.7,   98.7,   98.7,\n",
       "          98.7,   98.7,   98.7,   98.8,   98.8,   98.8,   98.8,   98.8,\n",
       "          98.8,   98.8,   98.8,   98.8,   98.8,   98.9,   98.9,   99. ,\n",
       "          99. ,   99. ,   99. ,   99. ,   99.1,   99.1,   99.1,   99.2,\n",
       "          99.2,   99.2,   99.3,   99.3,   99.4,   99.4,   99.5,   99.9,\n",
       "         100. ,  100.8]),\n",
       " array([ 0.00769231,  0.01538462,  0.02307692,  0.03076923,  0.03846154,\n",
       "         0.04615385,  0.05384615,  0.06153846,  0.06923077,  0.07692308,\n",
       "         0.08461538,  0.09230769,  0.1       ,  0.10769231,  0.11538462,\n",
       "         0.12307692,  0.13076923,  0.13846154,  0.14615385,  0.15384615,\n",
       "         0.16153846,  0.16923077,  0.17692308,  0.18461538,  0.19230769,\n",
       "         0.2       ,  0.20769231,  0.21538462,  0.22307692,  0.23076923,\n",
       "         0.23846154,  0.24615385,  0.25384615,  0.26153846,  0.26923077,\n",
       "         0.27692308,  0.28461538,  0.29230769,  0.3       ,  0.30769231,\n",
       "         0.31538462,  0.32307692,  0.33076923,  0.33846154,  0.34615385,\n",
       "         0.35384615,  0.36153846,  0.36923077,  0.37692308,  0.38461538,\n",
       "         0.39230769,  0.4       ,  0.40769231,  0.41538462,  0.42307692,\n",
       "         0.43076923,  0.43846154,  0.44615385,  0.45384615,  0.46153846,\n",
       "         0.46923077,  0.47692308,  0.48461538,  0.49230769,  0.5       ,\n",
       "         0.50769231,  0.51538462,  0.52307692,  0.53076923,  0.53846154,\n",
       "         0.54615385,  0.55384615,  0.56153846,  0.56923077,  0.57692308,\n",
       "         0.58461538,  0.59230769,  0.6       ,  0.60769231,  0.61538462,\n",
       "         0.62307692,  0.63076923,  0.63846154,  0.64615385,  0.65384615,\n",
       "         0.66153846,  0.66923077,  0.67692308,  0.68461538,  0.69230769,\n",
       "         0.7       ,  0.70769231,  0.71538462,  0.72307692,  0.73076923,\n",
       "         0.73846154,  0.74615385,  0.75384615,  0.76153846,  0.76923077,\n",
       "         0.77692308,  0.78461538,  0.79230769,  0.8       ,  0.80769231,\n",
       "         0.81538462,  0.82307692,  0.83076923,  0.83846154,  0.84615385,\n",
       "         0.85384615,  0.86153846,  0.86923077,  0.87692308,  0.88461538,\n",
       "         0.89230769,  0.9       ,  0.90769231,  0.91538462,  0.92307692,\n",
       "         0.93076923,  0.93846154,  0.94615385,  0.95384615,  0.96153846,\n",
       "         0.96923077,  0.97692308,  0.98461538,  0.99230769,  1.        ]))"
      ]
     },
     "execution_count": 16,
     "metadata": {},
     "output_type": "execute_result"
    }
   ],
   "source": [
    "x_data, y_data = ecdf(df['temperature'])\n",
    "x_data, y_data"
   ]
  },
  {
   "cell_type": "code",
   "execution_count": 17,
   "metadata": {},
   "outputs": [
    {
     "data": {
      "text/plain": [
       "(array([  96.70290174,   96.71115703,   96.9712215 ,   96.98472062,\n",
       "          97.01760715,   97.02298479,   97.18973411,   97.20890157,\n",
       "          97.2118532 ,   97.27162021,   97.36692116,   97.3853341 ,\n",
       "          97.39902682,   97.41929168,   97.44190707,   97.55020479,\n",
       "          97.5779603 ,   97.5793979 ,   97.59252016,   97.61186165,\n",
       "          97.61475393,   97.61832504,   97.61864528,   97.65703512,\n",
       "          97.71512433,   97.76437255,   97.77153265,   97.78010451,\n",
       "          97.8442897 ,   97.85286675,   97.8600074 ,   97.90662265,\n",
       "          97.91761406,   97.92629866,   97.94491636,   97.97556601,\n",
       "          97.99516565,   98.00830847,   98.01512163,   98.11526119,\n",
       "          98.18806454,   98.21860836,   98.24464038,   98.2655402 ,\n",
       "          98.26782787,   98.27023467,   98.29728315,   98.31165695,\n",
       "          98.3123817 ,   98.34902096,   98.38180127,   98.40130117,\n",
       "          98.40659066,   98.4128533 ,   98.41612298,   98.42058427,\n",
       "          98.47218473,   98.54420379,   98.60394637,   98.60492561,\n",
       "          98.63421804,   98.67438558,   98.70695751,   98.71575678,\n",
       "          98.74958088,   98.77739178,   98.81560881,   98.83176112,\n",
       "          98.84010017,   98.85276402,   98.86718895,   98.88927361,\n",
       "          98.90695966,   98.91172353,   98.92679824,   98.93470865,\n",
       "          98.95053398,   98.95367047,   98.95718015,   98.96956375,\n",
       "          99.08541976,   99.11189532,   99.13337124,   99.13482013,\n",
       "          99.14152879,   99.1755015 ,   99.19953898,   99.22478247,\n",
       "          99.2323104 ,   99.27934583,   99.30507508,   99.3097634 ,\n",
       "          99.32165456,   99.33880425,   99.43606492,   99.44646528,\n",
       "          99.53996469,   99.85062679,   99.89122617,  100.21131913]),\n",
       " array([ 0.01,  0.02,  0.03,  0.04,  0.05,  0.06,  0.07,  0.08,  0.09,\n",
       "         0.1 ,  0.11,  0.12,  0.13,  0.14,  0.15,  0.16,  0.17,  0.18,\n",
       "         0.19,  0.2 ,  0.21,  0.22,  0.23,  0.24,  0.25,  0.26,  0.27,\n",
       "         0.28,  0.29,  0.3 ,  0.31,  0.32,  0.33,  0.34,  0.35,  0.36,\n",
       "         0.37,  0.38,  0.39,  0.4 ,  0.41,  0.42,  0.43,  0.44,  0.45,\n",
       "         0.46,  0.47,  0.48,  0.49,  0.5 ,  0.51,  0.52,  0.53,  0.54,\n",
       "         0.55,  0.56,  0.57,  0.58,  0.59,  0.6 ,  0.61,  0.62,  0.63,\n",
       "         0.64,  0.65,  0.66,  0.67,  0.68,  0.69,  0.7 ,  0.71,  0.72,\n",
       "         0.73,  0.74,  0.75,  0.76,  0.77,  0.78,  0.79,  0.8 ,  0.81,\n",
       "         0.82,  0.83,  0.84,  0.85,  0.86,  0.87,  0.88,  0.89,  0.9 ,\n",
       "         0.91,  0.92,  0.93,  0.94,  0.95,  0.96,  0.97,  0.98,  0.99,  1.  ]))"
      ]
     },
     "execution_count": 17,
     "metadata": {},
     "output_type": "execute_result"
    }
   ],
   "source": [
    "x, y = ecdf(std1)\n",
    "x, y"
   ]
  },
  {
   "cell_type": "code",
   "execution_count": 18,
   "metadata": {},
   "outputs": [
    {
     "data": {
      "image/png": "[encoded data removed]",
      "text/plain": [
       "<matplotlib.figure.Figure at 0xaaf5588>"
      ]
     },
     "metadata": {},
     "output_type": "display_data"
    }
   ],
   "source": [
    "plt.plot(x,y)\n",
    "plt.plot(x_data,y_data,marker='.',linestyle='none')\n",
    "plt.xlabel('Body Temperature')\n",
    "plt.ylabel('Normal Distribution')\n",
    "plt.show()"
   ]
  },
  {
   "cell_type": "markdown",
   "metadata": {},
   "source": [
    "** Is the sample size large? Are the observations independent? **\n",
    "\n",
    "Ans: Yes"
   ]
  },
  {
   "cell_type": "markdown",
   "metadata": {},
   "source": [
    "** Is the true population mean really 98.6 degrees F? **\n",
    "* Would you use a one-sample or two-sample test? Why? \n",
    "* In this situation, is it appropriate to use the t or z  statistic? \n",
    "* Now try using the other test. How is the result be different? Why? \n"
   ]
  },
  {
   "cell_type": "code",
   "execution_count": 19,
   "metadata": {},
   "outputs": [
    {
     "data": {
      "text/plain": [
       "98.24923076923078"
      ]
     },
     "execution_count": 19,
     "metadata": {},
     "output_type": "execute_result"
    }
   ],
   "source": [
    "true_mean = np.mean(df['temperature'])\n",
    "true_mean"
   ]
  },
  {
   "cell_type": "markdown",
   "metadata": {},
   "source": [
    "As we can from the above result that the true population mean is not really 98.6 degrees F"
   ]
  },
  {
   "cell_type": "markdown",
   "metadata": {},
   "source": [
    "** Would you use a one-sample or two-sample test? Why? ** \n",
    "\n",
    "We will use one-sample test because we are not comparing temperature on any subject matter. One-Sample test works here because temperature is independent"
   ]
  },
  {
   "cell_type": "markdown",
   "metadata": {},
   "source": [
    "** In this situation, is it appropriate to use the t or z statistic? ** \n",
    "\n",
    "We can use Z statistic because the given sample is more than 30\n"
   ]
  },
  {
   "cell_type": "markdown",
   "metadata": {},
   "source": [
    "** Now try using the other test. How is the result be different? Why? **\n",
    "\n",
    "Will come back on this later"
   ]
  },
  {
   "cell_type": "code",
   "execution_count": null,
   "metadata": {
    "collapsed": true
   },
   "outputs": [],
   "source": []
  }
 ],
 "metadata": {
  "kernelspec": {
   "display_name": "Python 3",
   "language": "python",
   "name": "python3"
  },
  "language_info": {
   "codemirror_mode": {
    "name": "ipython",
    "version": 3
   },
   "file_extension": ".py",
   "mimetype": "text/x-python",
   "name": "python",
   "nbconvert_exporter": "python",
   "pygments_lexer": "ipython3",
   "version": "3.6.3"
  }
 },
 "nbformat": 4,
 "nbformat_minor": 1
}
